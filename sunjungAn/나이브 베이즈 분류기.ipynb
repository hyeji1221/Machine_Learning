{
 "cells": [
  {
   "cell_type": "markdown",
   "metadata": {},
   "source": [
    "## 나이브 베이즈 분류기\n",
    "\n",
    "> **각 특성을 개별로 취급해 파라미터를 학습하고 각 특성에서 클래스별 통계를 단순하게 취합한다.**\n",
    "> + 선형 분류기 보다 훈련 속도가 빠르지만 일반화 성능은 뒤처짐\n",
    "+ GaussianNB : 연속 데이터\n",
    "+ BernoulliNB : 이진 데이터\n",
    "+ MultinomialNB : 카운트 데이터\n",
    "\n",
    "**BernoulliNB 분류기** : 클래스의 특성 중 0이 아닌 것이 몇개 있는지 셈\n"
   ]
  },
  {
   "cell_type": "code",
   "execution_count": 4,
   "metadata": {},
   "outputs": [
    {
     "name": "stdout",
     "output_type": "stream",
     "text": [
      "[0 1]\n",
      "특성 카운트:\n",
      " {0: array([0, 1, 0, 2]), 1: array([2, 0, 2, 1])}\n"
     ]
    }
   ],
   "source": [
    "import numpy as np\n",
    "X = np.array([[0,1,0,1],\n",
    "             [1,0,1,1],\n",
    "             [0,0,0,1],\n",
    "             [1,0,1,0]])\n",
    "y = np.array([0,1,0,1])\n",
    "\n",
    "counts ={}\n",
    "\n",
    "for label in np.unique(y): #타겟값, 즉 0,1을 뜻함 \n",
    "    counts[label] = X[y == label].sum(axis = 0) \n",
    "print(\"특성 카운트:\\n\", counts)"
   ]
  },
  {
   "cell_type": "markdown",
   "metadata": {},
   "source": [
    "+ MultinomialNB : 클래스별로 특성의 평균을 계산\n",
    "+ GaussianNB : 클래스 별로 각 특성의 표준편차와 평균을 저장\n",
    "- **예측할 땐 데이터 포인트를 클래스의 통계 값과 비교해서 가장 잘 맞는 클래스를 예측값으로 한다.**\n",
    "+ 나이브 베이즈 모델의 coef_는 기울기 w가 아님\n",
    "\n",
    "### 장단점과 매개변수\n",
    "\n",
    "+ alpha가 주어지면 모든 특성에 양의 값을 가진 가상의 데이터 포인트를 alpha 개수만큼 추가 --> 통계 데이터를 완만하게 해줌\n",
    "    --> 복잡도가 낮아짐\n",
    "+ GaussianNB : 고차원 데이터셋\n",
    "+ MultinomialNB, BernoulliNB : 희소한 데이터 카운트\n",
    "+ 훈련과 예측 속도가 빠르다. 고차원 데이터에서 잘 작동 --> 큰 데이터에서는 나이브 베이브 모델 시도해 볼만함"
   ]
  }
 ],
 "metadata": {
  "kernelspec": {
   "display_name": "Python 3",
   "language": "python",
   "name": "python3"
  },
  "language_info": {
   "codemirror_mode": {
    "name": "ipython",
    "version": 3
   },
   "file_extension": ".py",
   "mimetype": "text/x-python",
   "name": "python",
   "nbconvert_exporter": "python",
   "pygments_lexer": "ipython3",
   "version": "3.8.5"
  }
 },
 "nbformat": 4,
 "nbformat_minor": 4
}
