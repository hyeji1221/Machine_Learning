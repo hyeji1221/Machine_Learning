{
 "cells": [
  {
   "cell_type": "markdown",
   "metadata": {},
   "source": [
    "**비지도 학습** : 알고 있는 출력값이나 정보 없이 학습 알고리즘을 가릋야 하는 모든 조율의 머신러닝\n",
    "\n",
    "## 비지도 학습의 종류\n",
    "> 데이터의 비지도 변환과 군집\n",
    "\n",
    "### 비지도 변환 \n",
    "+ 데이터를 새롭게 표현하여 알고리즘이 원래 데이터보다 쉽게 해석할 수 있도록 만드는 알고리즘\n",
    "+ **차원 축소** : 꼭 필요한 특징을 포함한 데이터로 표현하는 방법 \n",
    "> ex) 데이터셋을 2차원으로 변경\n",
    "\n",
    "### 군집 알고리즘\n",
    "+ 데이터를 비슷한 것끼리 그룹으로 묶는 것\n",
    "\n",
    "\n",
    "\n",
    "## 비지도 학습의 도전 과제\n",
    "\n",
    "+ 비지도 학습에서 가장 어려운 것은 : 알고리즘이 잘 학습했는지 평가하는 것이다.\n",
    "> 직접 확인하는 것이 유일한 방법일 때가 많음\n",
    "\n",
    "+ 데이터를 이해하는데 탐색적 분석 단계에서 많이 사용\n",
    "+ 지도 학습의 전처리 단계에서 사용\n",
    "+ 지도 학습에서 스케일 조정을 자주 사용하는데, 스케일 조정 메서드는 비지도 방식임"
   ]
  }
 ],
 "metadata": {
  "kernelspec": {
   "display_name": "Python 3",
   "language": "python",
   "name": "python3"
  },
  "language_info": {
   "codemirror_mode": {
    "name": "ipython",
    "version": 3
   },
   "file_extension": ".py",
   "mimetype": "text/x-python",
   "name": "python",
   "nbconvert_exporter": "python",
   "pygments_lexer": "ipython3",
   "version": "3.8.5"
  }
 },
 "nbformat": 4,
 "nbformat_minor": 4
}
